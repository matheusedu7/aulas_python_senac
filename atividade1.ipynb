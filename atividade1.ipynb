{
 "cells": [
  {
   "cell_type": "code",
   "execution_count": 1,
   "metadata": {},
   "outputs": [
    {
     "name": "stdout",
     "output_type": "stream",
     "text": [
      "Menu interativo:\n",
      "1. Criar Turma\n",
      "2. Adicionar Professor\n",
      "3. Adicionar Estudante\n",
      "4. Adicionar Nota\n",
      "5. Consultar Nota\n",
      "6. Salvar Nota\n",
      "7. Sair\n",
      "Criou Turma\n",
      "Adicionou Professor\n",
      "Adicionou Estudante\n",
      "Adicionou Nota\n",
      "Consultou Nota\n",
      "Salvou Nota\n",
      "Saindo do sistema.\n"
     ]
    }
   ],
   "source": [
    "print(\"Menu interativo:\")\n",
    "print(\"1. Criar Turma\")\n",
    "print(\"2. Adicionar Professor\")\n",
    "print(\"3. Adicionar Estudante\")\n",
    "print(\"4. Adicionar Nota\")\n",
    "print(\"5. Consultar Nota\")\n",
    "print(\"6. Salvar Nota\")\n",
    "print(\"7. Sair\")\n",
    "\n",
    "while True:\n",
    "    opcao = input(\"Escolha uma opção de 1 a 7: \")\n",
    "\n",
    "    if opcao == \"1\":\n",
    "        print(\"Criou Turma\")\n",
    "    elif opcao == \"2\":\n",
    "        print(\"Adicionou Professor\")\n",
    "    elif opcao == \"3\":\n",
    "        print(\"Adicionou Estudante\")\n",
    "    elif opcao == \"4\":\n",
    "        print(\"Adicionou Nota\")\n",
    "    elif opcao == \"5\":\n",
    "        print(\"Consultou Nota\")\n",
    "    elif opcao == \"6\":\n",
    "        print(\"Salvou Nota\")\n",
    "    elif opcao == \"7\":\n",
    "        print(\"Saindo do sistema.\")\n",
    "        break\n",
    "    else:\n",
    "        print(\"Opção inválida\")\n"
   ]
  }
 ],
 "metadata": {
  "kernelspec": {
   "display_name": "Python 3",
   "language": "python",
   "name": "python3"
  },
  "language_info": {
   "codemirror_mode": {
    "name": "ipython",
    "version": 3
   },
   "file_extension": ".py",
   "mimetype": "text/x-python",
   "name": "python",
   "nbconvert_exporter": "python",
   "pygments_lexer": "ipython3",
   "version": "3.12.5"
  }
 },
 "nbformat": 4,
 "nbformat_minor": 2
}
